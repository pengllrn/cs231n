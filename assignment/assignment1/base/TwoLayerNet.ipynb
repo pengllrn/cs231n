{
 "cells": [
  {
   "cell_type": "code",
   "execution_count": 1,
   "metadata": {},
   "outputs": [],
   "source": [
    "import numpy as np\n",
    "import pandas as pd\n"
   ]
  },
  {
   "cell_type": "code",
   "execution_count": null,
   "metadata": {},
   "outputs": [],
   "source": []
  },
  {
   "cell_type": "code",
   "execution_count": 2,
   "metadata": {},
   "outputs": [],
   "source": [
    "#初始化模型的参数向量，即得到一个初始模型\n",
    "#input_size：W1的维度，为32*32*3\n",
    "#hidden_size：隐层的长度\n",
    "#output_size：输出的维度，即分类数\n",
    "#b为偏移\n",
    "def init_model(input_size, hidden_size, output_size, std=1e-4):\n",
    "    model = {}\n",
    "    model['W1'] = std * np.random.randn(input_size, hidden_size)\n",
    "    model['b1'] = np.zeros(hidden_size)\n",
    "    model['W2'] = std * np.random.randn(hidden_size, output_size)\n",
    "    model['b2'] = np.zeros(output_size)\n",
    "    return model\n",
    "model=init_model(32*32*3,50,10)"
   ]
  },
  {
   "cell_type": "code",
   "execution_count": null,
   "metadata": {
    "scrolled": true
   },
   "outputs": [],
   "source": []
  },
  {
   "cell_type": "code",
   "execution_count": 3,
   "metadata": {},
   "outputs": [],
   "source": [
    "#定义一个两层的神经网络\n",
    "def two_layer_net(X,y,model,reg):\n",
    "    #两层神经网络的结构为：输入-FC-ReLu-FC-softmax-输出\n",
    "    #模型参数\n",
    "    W1, b1 = model['W1'], model['b1']\n",
    "    W2, b2 = model['W2'], model['b2']\n",
    "    N, D = X.shape\n",
    "    #前向传播\n",
    "    h1=np.maximum(0,np.dot(X,W1) + b1)\n",
    "    h2=np.dot(h1,W2) + b2\n",
    "    scores=h2  #N*10\n",
    "    #softmax and final loss\n",
    "    #exp_class_scores为最终的输出值\n",
    "    exp_class_scores=np.exp(scores)\n",
    "    exp_correct_class_scores=exp_class_scores[np.arange(N),y]\n",
    "    \n",
    "    _loss=-np.log(exp_correct_class_scores/np.sum(exp_class_scores,axis=1))\n",
    "    loss=sum(_loss)/N\n",
    "    loss+=reg*(np.sum(W1**2)+np.sum(W2**2)) #L2正则项\n",
    "    \n",
    "    #gradient \n",
    "    grads={}\n",
    "    #反向传播\n",
    "    #误逆差传播（BP）\n",
    "    #output-->softmax\n",
    "    #h2对W2求偏\n",
    "\n",
    "    dh2=exp_class_scores / np.sum(exp_class_scores,axis=1,keepdims=True)\n",
    "    #dh2=scores / np.sum(scores,axis=1,keepdims=True)\n",
    "    dh2[np.arange(N),y] -= 1\n",
    "    dh2 /= N\n",
    "    #FC\n",
    "    #W2\n",
    "    dW2=np.dot(h1.T,dh2)\n",
    "    dW2 += 2*reg*W2\n",
    "\n",
    "    db2=np.sum(dh2,axis=0)\n",
    "\n",
    "    #layer1\n",
    "    dh1=np.dot(dh2,W2.T)\n",
    "\n",
    "    dW1X_b1 = dh1\n",
    "    dW1X_b1[h1 <= 0] = 0\n",
    "\n",
    "    dW1 = np.dot(X.T, dW1X_b1)\n",
    "    dW1 += 2 * reg * W1\n",
    "\n",
    "    db1 = np.sum(dW1X_b1, axis=0)\n",
    "    \n",
    "    grads['W2'] = dW2\n",
    "    grads['b2'] = db2\n",
    "    grads['W1'] = dW1\n",
    "    grads['b1'] = db1\n",
    "    \n",
    "    return loss,grads"
   ]
  },
  {
   "cell_type": "code",
   "execution_count": 4,
   "metadata": {},
   "outputs": [],
   "source": [
    "#取数据\n",
    "#先取20个数据来检查模型正确否\n",
    "tr20=pd.read_csv(\"E:/Jupyter/data/tr20.csv\")\n",
    "na=np.array(tr20)\n",
    "X_tr20=na[:,:3072]\n",
    "y_tr20=na[:,3072]"
   ]
  },
  {
   "cell_type": "code",
   "execution_count": 6,
   "metadata": {},
   "outputs": [
    {
     "data": {
      "text/plain": [
       "2.3026534284840037"
      ]
     },
     "execution_count": 6,
     "metadata": {},
     "output_type": "execute_result"
    }
   ],
   "source": [
    "loss,grads=two_layer_net(X_tr20,y_tr20,model,0)\n",
    "loss"
   ]
  },
  {
   "cell_type": "code",
   "execution_count": 7,
   "metadata": {},
   "outputs": [
    {
     "data": {
      "text/plain": [
       "3.0718539521244876"
      ]
     },
     "execution_count": 7,
     "metadata": {},
     "output_type": "execute_result"
    }
   ],
   "source": [
    "loss,grads=two_layer_net(X_tr20,y_tr20,model,500)\n",
    "loss"
   ]
  },
  {
   "cell_type": "code",
   "execution_count": 44,
   "metadata": {},
   "outputs": [],
   "source": [
    "##正式开始训练\n",
    "#X,y为训练集\n",
    "#X_val,y_val为验证集\n",
    "#model，模型初始量\n",
    "#two_layer_net,两层神经网络的损失函数以及梯度模型\n",
    "#learning_rate 学习率\n",
    "#verbose：进度信息是否显示\n",
    "#num_epochs:训练次数\n",
    "#reg 正则强度\n",
    "def predict(X,model):\n",
    "    W1, b1 = model['W1'], model['b1']\n",
    "    W2, b2 = model['W2'], model['b2']\n",
    "    \n",
    "    h1 = np.maximum(0, np.dot(X, W1) + b1)\n",
    "    h2 = np.dot(h1, W2) + b2\n",
    "    scores = h2\n",
    "    y_pred = np.argmax(scores, axis=1)\n",
    "    return y_pred\n",
    "def train(X, y, X_val, y_val,\n",
    "    model,two_layer_net,\n",
    "    num_epochs,reg,\n",
    "    learning_rate=1e-3, learning_rate_decay=0.95,verbose=True):\n",
    "    \n",
    "    for it in range(num_epochs):\n",
    "        loss, grads = two_layer_net(X,y,model,reg=reg)\n",
    "        #更新模型\n",
    "        for param_name in model:\n",
    "            model[param_name] += -learning_rate * grads[param_name]\n",
    "\n",
    "        #训练准确率\n",
    "        train_acc = (predict(X,model) == y).mean()\n",
    "        val_acc = (predict(X_val,model) == y_val).mean()\n",
    "        #显示训练进度\n",
    "        if verbose and it % 10 == 0:\n",
    "            print('Finished epoch %d / %d: loss %f, train_acc: %f, val_acc: %f' % (it, num_epochs, loss,train_acc,val_acc))"
   ]
  },
  {
   "cell_type": "code",
   "execution_count": 9,
   "metadata": {},
   "outputs": [],
   "source": [
    "#取50个数据作为验证集\n",
    "val50=pd.read_csv(\"E:/Jupyter/data/val50.csv\")\n",
    "na=np.array(val50)\n",
    "X_val50=na[:,:3072]\n",
    "y_val50=na[:,3072]\n",
    "#取1000个用于训练的数据\n",
    "tr1000=pd.read_csv(\"E:/Jupyter/data/tr1000.csv\")\n",
    "na=np.array(tr1000)\n",
    "X_tr1000=na[:,:3072]\n",
    "y_tr1000=na[:,3072]"
   ]
  },
  {
   "cell_type": "code",
   "execution_count": null,
   "metadata": {
    "scrolled": true
   },
   "outputs": [],
   "source": []
  },
  {
   "cell_type": "code",
   "execution_count": 18,
   "metadata": {},
   "outputs": [],
   "source": []
  },
  {
   "cell_type": "code",
   "execution_count": 54,
   "metadata": {},
   "outputs": [
    {
     "name": "stdout",
     "output_type": "stream",
     "text": [
      "Finished epoch 0 / 300: loss 2.302507, train_acc: 0.250000, val_acc: 0.140000\n",
      "Finished epoch 10 / 300: loss 2.294520, train_acc: 0.250000, val_acc: 0.140000\n",
      "Finished epoch 20 / 300: loss 2.177781, train_acc: 0.250000, val_acc: 0.140000\n",
      "Finished epoch 30 / 300: loss 1.998961, train_acc: 0.250000, val_acc: 0.140000\n",
      "Finished epoch 40 / 300: loss 1.958202, train_acc: 0.250000, val_acc: 0.140000\n",
      "Finished epoch 50 / 300: loss 1.935706, train_acc: 0.250000, val_acc: 0.140000\n",
      "Finished epoch 60 / 300: loss 1.917948, train_acc: 0.250000, val_acc: 0.140000\n",
      "Finished epoch 70 / 300: loss 1.899105, train_acc: 0.250000, val_acc: 0.140000\n",
      "Finished epoch 80 / 300: loss 1.873242, train_acc: 0.250000, val_acc: 0.140000\n",
      "Finished epoch 90 / 300: loss 1.833338, train_acc: 0.300000, val_acc: 0.140000\n",
      "Finished epoch 100 / 300: loss 1.773588, train_acc: 0.300000, val_acc: 0.160000\n",
      "Finished epoch 110 / 300: loss 1.695177, train_acc: 0.350000, val_acc: 0.180000\n",
      "Finished epoch 120 / 300: loss 1.602029, train_acc: 0.350000, val_acc: 0.160000\n",
      "Finished epoch 130 / 300: loss 1.498536, train_acc: 0.500000, val_acc: 0.140000\n",
      "Finished epoch 140 / 300: loss 1.388904, train_acc: 0.550000, val_acc: 0.140000\n",
      "Finished epoch 150 / 300: loss 1.278104, train_acc: 0.600000, val_acc: 0.120000\n",
      "Finished epoch 160 / 300: loss 1.169912, train_acc: 0.650000, val_acc: 0.120000\n",
      "Finished epoch 170 / 300: loss 1.064745, train_acc: 0.650000, val_acc: 0.120000\n",
      "Finished epoch 180 / 300: loss 0.961809, train_acc: 0.700000, val_acc: 0.120000\n",
      "Finished epoch 190 / 300: loss 0.860482, train_acc: 0.700000, val_acc: 0.120000\n",
      "Finished epoch 200 / 300: loss 0.761827, train_acc: 0.850000, val_acc: 0.100000\n",
      "Finished epoch 210 / 300: loss 0.669225, train_acc: 0.850000, val_acc: 0.080000\n",
      "Finished epoch 220 / 300: loss 0.585588, train_acc: 0.850000, val_acc: 0.100000\n",
      "Finished epoch 230 / 300: loss 0.512447, train_acc: 0.850000, val_acc: 0.120000\n",
      "Finished epoch 240 / 300: loss 0.449895, train_acc: 0.950000, val_acc: 0.100000\n",
      "Finished epoch 250 / 300: loss 0.396680, train_acc: 0.950000, val_acc: 0.080000\n",
      "Finished epoch 260 / 300: loss 0.350864, train_acc: 0.950000, val_acc: 0.080000\n",
      "Finished epoch 270 / 300: loss 0.311703, train_acc: 0.950000, val_acc: 0.080000\n",
      "Finished epoch 280 / 300: loss 0.278360, train_acc: 1.000000, val_acc: 0.060000\n",
      "Finished epoch 290 / 300: loss 0.249809, train_acc: 1.000000, val_acc: 0.060000\n"
     ]
    }
   ],
   "source": [
    "#先检验一下，模型是不是正确的\n",
    "reg=0\n",
    "lr=1e-4\n",
    "model=init_model(32*32*3,50,10)\n",
    "train(X_tr20,y_tr20,X_val50,y_val50,model,two_layer_net,300,reg,lr)"
   ]
  },
  {
   "cell_type": "code",
   "execution_count": null,
   "metadata": {},
   "outputs": [],
   "source": [
    "#很好，产生过拟合，训练集的精度为100%，说明模型没问题"
   ]
  },
  {
   "cell_type": "code",
   "execution_count": 46,
   "metadata": {
    "scrolled": true
   },
   "outputs": [
    {
     "name": "stdout",
     "output_type": "stream",
     "text": [
      "Finished epoch 0 / 300: loss 2.302597, train_acc: 0.108000, val_acc: 0.060000\n",
      "Finished epoch 10 / 300: loss 2.302430, train_acc: 0.105000, val_acc: 0.100000\n",
      "Finished epoch 20 / 300: loss 2.302032, train_acc: 0.106000, val_acc: 0.100000\n",
      "Finished epoch 30 / 300: loss 2.300821, train_acc: 0.106000, val_acc: 0.100000\n",
      "Finished epoch 40 / 300: loss 2.297424, train_acc: 0.105000, val_acc: 0.100000\n",
      "Finished epoch 50 / 300: loss 2.290647, train_acc: 0.105000, val_acc: 0.100000\n",
      "Finished epoch 60 / 300: loss 2.281614, train_acc: 0.105000, val_acc: 0.100000\n",
      "Finished epoch 70 / 300: loss 2.268297, train_acc: 0.112000, val_acc: 0.080000\n",
      "Finished epoch 80 / 300: loss 2.248844, train_acc: 0.125000, val_acc: 0.080000\n",
      "Finished epoch 90 / 300: loss 2.225142, train_acc: 0.142000, val_acc: 0.080000\n",
      "Finished epoch 100 / 300: loss 2.195550, train_acc: 0.178000, val_acc: 0.100000\n",
      "Finished epoch 110 / 300: loss 2.160730, train_acc: 0.198000, val_acc: 0.100000\n",
      "Finished epoch 120 / 300: loss 2.127574, train_acc: 0.209000, val_acc: 0.100000\n",
      "Finished epoch 130 / 300: loss 2.100946, train_acc: 0.211000, val_acc: 0.100000\n",
      "Finished epoch 140 / 300: loss 2.080716, train_acc: 0.216000, val_acc: 0.100000\n",
      "Finished epoch 150 / 300: loss 2.064905, train_acc: 0.213000, val_acc: 0.100000\n",
      "Finished epoch 160 / 300: loss 2.051641, train_acc: 0.211000, val_acc: 0.100000\n",
      "Finished epoch 170 / 300: loss 2.039503, train_acc: 0.219000, val_acc: 0.120000\n",
      "Finished epoch 180 / 300: loss 2.027670, train_acc: 0.228000, val_acc: 0.120000\n",
      "Finished epoch 190 / 300: loss 2.071383, train_acc: 0.217000, val_acc: 0.180000\n",
      "Finished epoch 200 / 300: loss 2.058920, train_acc: 0.238000, val_acc: 0.160000\n",
      "Finished epoch 210 / 300: loss 2.009708, train_acc: 0.264000, val_acc: 0.160000\n",
      "Finished epoch 220 / 300: loss 2.002209, train_acc: 0.256000, val_acc: 0.200000\n",
      "Finished epoch 230 / 300: loss 1.997964, train_acc: 0.261000, val_acc: 0.200000\n",
      "Finished epoch 240 / 300: loss 1.973855, train_acc: 0.273000, val_acc: 0.200000\n",
      "Finished epoch 250 / 300: loss 1.952582, train_acc: 0.286000, val_acc: 0.200000\n",
      "Finished epoch 260 / 300: loss 1.938837, train_acc: 0.291000, val_acc: 0.200000\n",
      "Finished epoch 270 / 300: loss 1.923671, train_acc: 0.292000, val_acc: 0.200000\n",
      "Finished epoch 280 / 300: loss 1.906563, train_acc: 0.304000, val_acc: 0.200000\n",
      "Finished epoch 290 / 300: loss 1.891744, train_acc: 0.304000, val_acc: 0.200000\n"
     ]
    }
   ],
   "source": [
    "#正式训练\n",
    "#第一步：调一个合适的学习率\n",
    "reg=0\n",
    "lr=2*1e-4\n",
    "model=init_model(32*32*3,50,10)\n",
    "train(X_tr1000,y_tr1000,X_val50,y_val50,model,two_layer_net,300,reg,lr)"
   ]
  },
  {
   "cell_type": "code",
   "execution_count": 52,
   "metadata": {
    "scrolled": true
   },
   "outputs": [
    {
     "name": "stdout",
     "output_type": "stream",
     "text": [
      "Finished epoch 0 / 300: loss 3.071337, train_acc: 0.110000, val_acc: 0.060000\n",
      "Finished epoch 10 / 300: loss 2.303198, train_acc: 0.113000, val_acc: 0.060000\n",
      "Finished epoch 20 / 300: loss 2.302583, train_acc: 0.113000, val_acc: 0.060000\n",
      "Finished epoch 30 / 300: loss 2.302581, train_acc: 0.113000, val_acc: 0.060000\n",
      "Finished epoch 40 / 300: loss 2.302579, train_acc: 0.113000, val_acc: 0.060000\n",
      "Finished epoch 50 / 300: loss 2.302577, train_acc: 0.113000, val_acc: 0.060000\n",
      "Finished epoch 60 / 300: loss 2.302576, train_acc: 0.113000, val_acc: 0.060000\n",
      "Finished epoch 70 / 300: loss 2.302574, train_acc: 0.113000, val_acc: 0.060000\n",
      "Finished epoch 80 / 300: loss 2.302573, train_acc: 0.113000, val_acc: 0.060000\n",
      "Finished epoch 90 / 300: loss 2.302571, train_acc: 0.113000, val_acc: 0.060000\n",
      "Finished epoch 100 / 300: loss 2.302570, train_acc: 0.113000, val_acc: 0.060000\n",
      "Finished epoch 110 / 300: loss 2.302568, train_acc: 0.113000, val_acc: 0.060000\n",
      "Finished epoch 120 / 300: loss 2.302567, train_acc: 0.113000, val_acc: 0.060000\n",
      "Finished epoch 130 / 300: loss 2.302565, train_acc: 0.113000, val_acc: 0.060000\n",
      "Finished epoch 140 / 300: loss 2.302564, train_acc: 0.113000, val_acc: 0.060000\n",
      "Finished epoch 150 / 300: loss 2.302562, train_acc: 0.113000, val_acc: 0.060000\n",
      "Finished epoch 160 / 300: loss 2.302561, train_acc: 0.113000, val_acc: 0.060000\n",
      "Finished epoch 170 / 300: loss 2.302559, train_acc: 0.113000, val_acc: 0.060000\n",
      "Finished epoch 180 / 300: loss 2.302558, train_acc: 0.113000, val_acc: 0.060000\n",
      "Finished epoch 190 / 300: loss 2.302556, train_acc: 0.113000, val_acc: 0.060000\n",
      "Finished epoch 200 / 300: loss 2.302555, train_acc: 0.113000, val_acc: 0.060000\n",
      "Finished epoch 210 / 300: loss 2.302553, train_acc: 0.113000, val_acc: 0.060000\n",
      "Finished epoch 220 / 300: loss 2.302552, train_acc: 0.113000, val_acc: 0.060000\n",
      "Finished epoch 230 / 300: loss 2.302550, train_acc: 0.113000, val_acc: 0.060000\n",
      "Finished epoch 240 / 300: loss 2.302549, train_acc: 0.113000, val_acc: 0.060000\n",
      "Finished epoch 250 / 300: loss 2.302547, train_acc: 0.113000, val_acc: 0.060000\n",
      "Finished epoch 260 / 300: loss 2.302546, train_acc: 0.113000, val_acc: 0.060000\n",
      "Finished epoch 270 / 300: loss 2.302544, train_acc: 0.113000, val_acc: 0.060000\n",
      "Finished epoch 280 / 300: loss 2.302543, train_acc: 0.113000, val_acc: 0.060000\n",
      "Finished epoch 290 / 300: loss 2.302541, train_acc: 0.113000, val_acc: 0.060000\n"
     ]
    }
   ],
   "source": [
    "reg=500\n",
    "lr=3*1e-4\n",
    "model=init_model(32*32*3,50,10)\n",
    "train(X_tr1000,y_tr1000,X_val50,y_val50,model,two_layer_net,300,reg,lr)"
   ]
  },
  {
   "cell_type": "code",
   "execution_count": null,
   "metadata": {},
   "outputs": [],
   "source": []
  },
  {
   "cell_type": "code",
   "execution_count": 48,
   "metadata": {},
   "outputs": [
    {
     "name": "stdout",
     "output_type": "stream",
     "text": [
      "[6 8 9 6 8 6 6 5 8 9 5 0 0 5 0 8 8 5 0 1]\n"
     ]
    }
   ],
   "source": [
    "print(predict(X_tr20,model))"
   ]
  },
  {
   "cell_type": "code",
   "execution_count": 49,
   "metadata": {},
   "outputs": [
    {
     "name": "stdout",
     "output_type": "stream",
     "text": [
      "[6 9 9 4 1 1 2 7 8 3 4 7 7 2 9 9 9 3 2 6]\n"
     ]
    }
   ],
   "source": [
    "print(y_tr20)"
   ]
  },
  {
   "cell_type": "code",
   "execution_count": null,
   "metadata": {},
   "outputs": [],
   "source": []
  }
 ],
 "metadata": {
  "kernelspec": {
   "display_name": "Python 2",
   "language": "python",
   "name": "python2"
  },
  "language_info": {
   "codemirror_mode": {
    "name": "ipython",
    "version": 2
   },
   "file_extension": ".py",
   "mimetype": "text/x-python",
   "name": "python",
   "nbconvert_exporter": "python",
   "pygments_lexer": "ipython2",
   "version": "2.7.15"
  }
 },
 "nbformat": 4,
 "nbformat_minor": 2
}
